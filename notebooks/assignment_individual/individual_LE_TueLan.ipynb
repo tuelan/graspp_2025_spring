{
 "cells": [
  {
   "cell_type": "markdown",
   "id": "14e04d7b-d1fc-4317-9b55-b68ee8046a0f",
   "metadata": {},
   "source": [
    "# A. Assignment details\n",
    "\n",
    "- What: Download, manipulate and merge two or more datasets from below\n",
    "- How: Create functions in a python file to do this\n",
    "- Show: Show how to use these python files in a notebook"
   ]
  },
  {
   "cell_type": "markdown",
   "id": "05c97900",
   "metadata": {},
   "source": [
    "More details here: reports/assignments/milestone_1/extracredit_explainer.md\n"
   ]
  },
  {
   "cell_type": "markdown",
   "id": "e2c8e240",
   "metadata": {},
   "source": [
    "## 1.1 Download data"
   ]
  },
  {
   "cell_type": "code",
   "execution_count": 1,
   "id": "6da2adfb-8eac-4ad3-8810-3d5e6cc1ab42",
   "metadata": {},
   "outputs": [],
   "source": [
    "# YOUR CODE HERE"
   ]
  },
  {
   "cell_type": "markdown",
   "id": "8cb3b866",
   "metadata": {},
   "source": [
    "## 1.2 Manipulate Data"
   ]
  },
  {
   "cell_type": "code",
   "execution_count": null,
   "id": "4ad358d9",
   "metadata": {},
   "outputs": [],
   "source": []
  },
  {
   "cell_type": "markdown",
   "id": "ec9b1098",
   "metadata": {},
   "source": [
    "## 1.3 Merge Data"
   ]
  },
  {
   "cell_type": "code",
   "execution_count": null,
   "id": "4785a4f5",
   "metadata": {},
   "outputs": [],
   "source": []
  },
  {
   "cell_type": "markdown",
   "id": "ea9bb389",
   "metadata": {},
   "source": [
    "## Global datasets\n",
    "\n",
    "- What: Download, manipulate and merge two or more datasets from below\n",
    "- How: Create functions in a python file to do this\n",
    "- Show: Show how to use these python files in a notebook\n",
    "\n",
    "* **Penn World Table (PWT):** Provides purchasing power parity and national income accounts data.\n",
    "    * **Link:** [http://www.ggdc.net/pwt](http://www.ggdc.net/pwt)\n",
    "\n",
    "* **UNCTADstat (UNCTAD):** Offers data on trade, investment, and development.\n",
    "    * **Link:** [https://unctadstat.unctad.org/](https://unctadstat.unctad.org/)\n",
    "\n",
    "* **FAOSTAT (FAO):** Provides data on food, agriculture, forestry, and related areas.\n",
    "    * **Link:** [http://www.fao.org/faostat/en/#data](http://www.fao.org/faostat/en/#data)\n",
    "\n",
    "* **ILOSTAT (ILO):** Offers labor statistics, including employment and wages.\n",
    "    * **Link:** [https://ilostat.ilo.org/](https://ilostat.ilo.org/)\n",
    "\n",
    "* **Federal Reserve Economic Data (FRED):** Economic and financial data from the Federal Reserve.\n",
    "    * **Link:** [https://fred.stlouisfed.org/](https://fred.stlouisfed.org/)\n",
    "\n",
    "* **Bank for International Settlements (BIS):** Data and statistics on banking, financial markets, and the global economy.\n",
    "    * **Link:** [https://www.bis.org/statistics/index.htm](https://www.bis.org/statistics/index.htm)\n",
    "\n",
    "* **International Monetary Fund (IMF) Data:** A variety of macroeconomic and financial data.\n",
    "    * **Link:** [https://www.imf.org/en/data](https://www.imf.org/en/data)\n",
    "\n",
    "* **Eurostat:** Provides a wide range of statistics on the European Union, including economic, social, and demographic data.\n",
    "    * **Link:** [https://ec.europa.eu/eurostat/](https://ec.europa.eu/eurostat/)\n",
    "\n",
    "* **World Bank Data:** Comprehensive data on development indicators across countries.\n",
    "    * **Link:** [https://data.worldbank.org/](https://data.worldbank.org/)\n",
    "\n",
    "* **Varieties of Democracy (V-Dem):** Datasets measuring various aspects of democracy across countries.\n",
    "    * **Link:** [https://v-dem.net/](https://v-dem.net/)\n",
    "\n",
    "* **OECD Data:** Statistics and indicators from the Organisation for Economic Co-operation and Development, covering a broad range of topics.\n",
    "    * **Link:** [https://data.oecd.org/](https://data.oecd.org/)\n",
    "\n",
    "* **Quality of Government (QoG):** Datasets on governance, institutions, and quality of government.\n",
    "    * **Link:** [https://qog.gu.se/](https://qog.gu.se/)\n",
    "\n",
    "* **IPCC Data:** Climate change data and scenarios from the Intergovernmental Panel on Climate Change.\n",
    "    * (Note: Access to data varies, often through specific reports or data portals linked within the IPCC website)\n",
    "    * **Link:** [https://www.ipcc.ch/](https://www.ipcc.ch/)\n",
    "\n",
    "* **Our World in Data:** Research and data on global development, poverty, health, and other topics.\n",
    "    * **Link:** [https://ourworldindata.org/](https://ourworldindata.org/)\n",
    "\n",
    "* **UN Comtrade:** United Nations Commodity Trade Statistics Database.\n",
    "    * **Link:** [https://comtrade.un.org/](https://comtrade.un.org/)\n",
    "\n",
    "\n",
    "## Academic datasets\n",
    "\n",
    "* **Dallas Fed Global Economic Indicators (DGEI):** [DGEI](https://www.dallasfed.org/research/international/dgei)\n",
    "* **Dallas Fed International House Price Database:** [House Price](https://www.dallasfed.org/research/international/houseprice#data)\n",
    "* **New York Fed r* (Natural Rate of Interest):** [r*](https://www.newyorkfed.org/research/policy/rstar)\n",
    "* **Chinn-Ito Index (KAOPEN):** [KAOPEN](https://web.pdx.edu/~ito/Chinn-Ito_website.htm)\n",
    "* **Metrick-Schmelzing Paper and Database (Long-Term Real Rates):** [Real Rates](https://som.yale.edu/centers/program-on-financial-stability/metrick-schmelzing-paper-and-database)\n",
    "* **Yale Program on Financial Stability COVID-19 Tracker:** [COVID-19 Tracker](https://som.yale.edu/centers/program-on-financial-stability/covid-19-tracker)\n",
    "* **IMF Financial Integration:** [Financial Integration](https://www.imf.org/en/Publications/WP/Issues/2017/05/10/International-Financial-Integration-in-the-Aftermath-of-the-Global-Financial-Crisis-44906)\n",
    "* **IMF Macroprudential Policy Survey:** [Macroprudential](https://www.elibrary-areaer.imf.org/Macroprudential/Pages/Home.aspx)\n",
    "* **Nancy Xu's Risk Aversion Index:** [Risk Aversion](https://www.nancyxu.net/risk-aversion-index)\n",
    "* **Jorda-Schularick-Taylor Macrohistory Database:** [Macrohistory](https://www.nber.org/research/data/jorda-schularick-taylor-macrohistory)\n",
    "* **Central Bank Independence (CBI) Data:** [CBI Data](https://sites.google.com/site/carogarriga/cbi-data-1)\n",
    "* **Global Inflation Data:** [Inflation Data](https://www.worldbank.org/en/research/brief/inflation-database)\n",
    "\n",
    "## U.S Datasets\n",
    "- https://www.sca.isr.umich.edu/tables.html\n",
    "- https://www.bea.gov/data\n",
    "- https://www.bls.gov/jlt/\n",
    "- https://adpemploymentreport.com/\n",
    "\n",
    "## Japan datasets\n",
    "\n",
    "* **Economy Watchers Survey (Cabinet Office):** [Watchers Survey](https://www5.cao.go.jp/keizai3/watcher.html)\n",
    "* **Consumption Trend Index (ESRI, Cabinet Office):** [Consumption Index](https://www.esri.cao.go.jp/en/stat/shouhi/shouhi-e.html)\n",
    "* **Prefectural Accounts (ESRI, Cabinet Office):** [Prefectural Accounts](https://www.esri.cao.go.jp/jp/sna/sonota/kenmin/kenmin_top.html)\n",
    "* **Insurance Statistics (General Insurance Association of Japan):** [Insurance Stats](https://www.sonpo.or.jp/en/statistics/index.html)\n",
    "* **FSA Policy Response (Financial Services Agency):** [FSA Response](https://www.fsa.go.jp/news/r1/20200313-2.html)\n",
    "* **Franchise Industry Data (Japan Franchise Association):** [Franchise Data](https://www.jfnet.or.jp/data/data_c.html)\n",
    "* **Trends Foreign Visitors (MLIT, Japan Tourism Agency):** [Visitor Spending](https://www.mlit.go.jp/kankocho/tokei_hakusyo/gaikokujinshohidoko.html)\n",
    "* **Tax and Stamp Revenues (Ministry of Finance):** [Tax Revenues](https://www.mof.go.jp/tax_policy/reference/taxes_and_stamp_revenues/data.htm)\n",
    "* **Life Insurance Statistics (Life Insurance Association of Japan):** [Life Insurance](https://www.seiho.or.jp/english/statistics/)\n",
    "* **Economic Growth (Tokyo Foundation for Policy Research):** [GDP](https://www.tkfd.or.jp/research/detail.php?id=2983)\n",
    "* **Consumer Price Index (Statistics Bureau of Japan):** [CPI](https://www.stat.go.jp/english/data/cpi/1588.html#his)\n",
    "* **Bank Financial Statements (Financial Services Agency):** [Bank Statements](https://www.fsa.go.jp/status/ginkou_kessan/index.html)\n",
    "* **Budget Revenue and Expenditure (Ministry of Finance):** [Budget Data](https://www.mof.go.jp/policy/budget/report/revenue_and_expenditure/index.htm)\n",
    "* **Trade Statistics (Japan Customs):** [Trade Stats](https://www.customs.go.jp/toukei/info/index_e.htm)\n",
    "* **Banking Statistics (Japanese Bankers Association):** [Banking Stats](https://www.zenginkyo.or.jp/stats/year2-02/)\n",
    "* **Household Expenditure Survey (Statistics Bureau):** [Household Spending](https://www.stat.go.jp/data/kakei/longtime/index.html#time)\n",
    "* **Economic Statistics (Federation of Economic Organizations):** [Econ Stats](https://www.zenkeijikyo.or.jp/statistics)\n",
    "* **Regional Banks:** [Regional Banks data](https://www.chiginkyo.or.jp/news_topics/)\n",
    "* **Japan Economic Policy Uncertainty Index:** [Policy Uncertainty](https://www.policyuncertainty.com/japan_monthly.html)"
   ]
  },
  {
   "cell_type": "markdown",
   "id": "f8acbce1",
   "metadata": {},
   "source": []
  }
 ],
 "metadata": {
  "kernelspec": {
   "display_name": "Python 3 (ipykernel)",
   "language": "python",
   "name": "python3"
  },
  "language_info": {
   "codemirror_mode": {
    "name": "ipython",
    "version": 3
   },
   "file_extension": ".py",
   "mimetype": "text/x-python",
   "name": "python",
   "nbconvert_exporter": "python",
   "pygments_lexer": "ipython3",
   "version": "3.12.6"
  }
 },
 "nbformat": 4,
 "nbformat_minor": 5
}
